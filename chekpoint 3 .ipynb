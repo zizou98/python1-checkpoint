{
 "cells": [
  {
   "cell_type": "raw",
   "metadata": {},
   "source": [
    "# quest1"
   ]
  },
  {
   "cell_type": "code",
   "execution_count": 7,
   "metadata": {},
   "outputs": [
    {
     "name": "stdout",
     "output_type": "stream",
     "text": [
      "6\n"
     ]
    }
   ],
   "source": [
    "list=[1,2,3]\n",
    "totale= 1\n",
    "for x in list:\n",
    "    totale *= x\n",
    "print (totale)"
   ]
  },
  {
   "cell_type": "raw",
   "metadata": {},
   "source": [
    " quest2 "
   ]
  },
  {
   "cell_type": "code",
   "execution_count": 17,
   "metadata": {},
   "outputs": [
    {
     "name": "stdout",
     "output_type": "stream",
     "text": [
      "[(2, 1), (1, 2), (2, 3), (4, 4), (2, 5)]\n"
     ]
    }
   ],
   "source": [
    "list=[(2, 5), (1, 2), (4, 4), (2, 3), (2, 1)]\n",
    "print(sorted(([(2, 5), (1, 2), (4, 4), (2, 3), (2, 1)]), key=lambda list: list[1]))\n"
   ]
  },
  {
   "cell_type": "raw",
   "metadata": {},
   "source": [
    "quest 3"
   ]
  },
  {
   "cell_type": "code",
   "execution_count": 2,
   "metadata": {},
   "outputs": [
    {
     "name": "stdout",
     "output_type": "stream",
     "text": [
      "{'a': 400, 'b': 400, 'd': 400}\n"
     ]
    }
   ],
   "source": [
    "d1= {'a':100,'b':200,'c':300} \n",
    "d2= {'a':300,'b':200,'d':400} \n",
    "for key in d2: \n",
    "    if key in d1: \n",
    "        d2[key] = d2[key] + d1[key] \n",
    "    else:\n",
    "        pass\n",
    "print(d2)"
   ]
  },
  {
   "cell_type": "raw",
   "metadata": {},
   "source": [
    "quest 4 "
   ]
  },
  {
   "cell_type": "code",
   "execution_count": 3,
   "metadata": {},
   "outputs": [
    {
     "name": "stdout",
     "output_type": "stream",
     "text": [
      "[('item3', '24.5'), ('item2', '15.10'), ('item1', '12.20')]\n"
     ]
    }
   ],
   "source": [
    "price = [('item1', '12.20'), ('item2', '15.10'), ('item3', '24.5')]\n",
    "print( sorted(price, key=lambda x: float(x[1]), reverse=True))\n"
   ]
  },
  {
   "cell_type": "code",
   "execution_count": null,
   "metadata": {},
   "outputs": [],
   "source": []
  }
 ],
 "metadata": {
  "kernelspec": {
   "display_name": "Python 3",
   "language": "python",
   "name": "python3"
  },
  "language_info": {
   "codemirror_mode": {
    "name": "ipython",
    "version": 3
   },
   "file_extension": ".py",
   "mimetype": "text/x-python",
   "name": "python",
   "nbconvert_exporter": "python",
   "pygments_lexer": "ipython3",
   "version": "3.7.6"
  }
 },
 "nbformat": 4,
 "nbformat_minor": 4
}
