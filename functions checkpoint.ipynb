{
 "cells": [
  {
   "cell_type": "raw",
   "metadata": {},
   "source": [
    "quest 1 \n"
   ]
  },
  {
   "cell_type": "code",
   "execution_count": null,
   "metadata": {},
   "outputs": [],
   "source": [
    "def max_two( x, y ):\n",
    "    if x > y:\n",
    "        return x\n",
    "    return y\n",
    "def max_three( x, y, z ):\n",
    "    return max_two( x, max_two( y, z ) )\n",
    "print(max_three(1, 2, 3))\n"
   ]
  },
  {
   "cell_type": "raw",
   "metadata": {},
   "source": [
    "quest 2 \n"
   ]
  },
  {
   "cell_type": "code",
   "execution_count": null,
   "metadata": {},
   "outputs": [],
   "source": [
    "list=[1, 2, 3, 4, 5, 6, 7,8,9,10]\n",
    "def listsum(list):\n",
    "    sum=0\n",
    "    for i in list:\n",
    "        sum += i\n",
    "    return sum\n",
    "def listmul(list):\n",
    "    mul=1\n",
    "    for i in list:\n",
    "        mul*=i\n",
    "    return mul\n",
    "def extracteven(list):\n",
    "    leven=[]\n",
    "    for i in range (0,list.Len(),2):\n",
    "        leven.append(list[i])\n",
    "    return (leven)\n",
    "def extractodd(list):\n",
    "    lodd=[]\n",
    "    for i in range (1,list.Len(),2):\n",
    "        lodd.append(list[i])\n",
    "    return(lodd)    "
   ]
  },
  {
   "cell_type": "markdown",
   "metadata": {},
   "source": [
    "j avais des problemes je sais pas pour quoi il m affiche des erreures :( "
   ]
  },
  {
   "cell_type": "raw",
   "metadata": {},
   "source": [
    "quest 3 "
   ]
  },
  {
   "cell_type": "code",
   "execution_count": null,
   "metadata": {},
   "outputs": [],
   "source": [
    "items=[n for n in input().split('-')]\n",
    "items.sort()\n",
    "print('-'.join(items))"
   ]
  },
  {
   "cell_type": "code",
   "execution_count": null,
   "metadata": {},
   "outputs": [],
   "source": []
  }
 ],
 "metadata": {
  "kernelspec": {
   "display_name": "Python 3",
   "language": "python",
   "name": "python3"
  },
  "language_info": {
   "codemirror_mode": {
    "name": "ipython",
    "version": 3
   },
   "file_extension": ".py",
   "mimetype": "text/x-python",
   "name": "python",
   "nbconvert_exporter": "python",
   "pygments_lexer": "ipython3",
   "version": "3.7.6"
  }
 },
 "nbformat": 4,
 "nbformat_minor": 4
}
